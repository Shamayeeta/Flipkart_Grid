{
 "cells": [
  {
   "cell_type": "code",
   "execution_count": 77,
   "metadata": {},
   "outputs": [],
   "source": [
    "import requests\n",
    "from pprint import pprint\n",
    "import pandas as pd\n",
    "import numpy as np\n",
    "from faker import Faker\n",
    "from tqdm import tqdm\n",
    "import random"
   ]
  },
  {
   "cell_type": "code",
   "execution_count": 78,
   "metadata": {},
   "outputs": [],
   "source": [
    "queries = [ [\"red\", \"wedding\", \"lehenga\"],\n",
    "            [\"black\", \"maxi\", \"dress\"], \n",
    "            [\"blue\", \"saree\", \"indian\"],\n",
    "            [\"striped\", \"crop\", \"top\", \"women\"],\n",
    "            [\"denim\", \"jeans\", \"grey\"],\n",
    "            [\"knee-length\", \"boots\", \"brown\"],\n",
    "            [\"white\", \"sandals\", \"fancy\"],\n",
    "            [\"traditional\", \"jhumkas\"],\n",
    "            [\"black\", \"sunglasses\", \"aviator\"],\n",
    "            [\"party\", \"bag\", \"night\"]\n",
    "]"
   ]
  },
  {
   "cell_type": "code",
   "execution_count": 80,
   "metadata": {},
   "outputs": [],
   "source": [
    "products = []\n",
    "for query in queries:\n",
    "    string = \"+\".join(query)\n",
    "    url = \"https://flipkart-scraper-api.dvishal485.workers.dev/search/q=\" + string\n",
    "    data = requests.get(url).json()[\"result\"]\n",
    "    products.extend(data)\n",
    "\n"
   ]
  },
  {
   "cell_type": "code",
   "execution_count": 84,
   "metadata": {},
   "outputs": [
    {
     "name": "stderr",
     "output_type": "stream",
     "text": [
      "100%|██████████| 400/400 [16:38<00:00,  2.50s/it]\n"
     ]
    }
   ],
   "source": [
    "product_details = []\n",
    "idx = 0\n",
    "for product in tqdm(products):\n",
    "    url = product[\"query_url\"]\n",
    "    res = requests.get(url)\n",
    "    product_details.append(res.json())\n"
   ]
  },
  {
   "cell_type": "code",
   "execution_count": 85,
   "metadata": {},
   "outputs": [
    {
     "name": "stdout",
     "output_type": "stream",
     "text": [
      "{'current_price': 320,\n",
      " 'discount_percent': 83,\n",
      " 'discounted': True,\n",
      " 'f_assured': True,\n",
      " 'highlights': [],\n",
      " 'in_stock': True,\n",
      " 'name': 'JAYMOGAL FASHION\\xa0Self Design Semi Stitched Lehenga Choli',\n",
      " 'offers': ['Special Price : Get extra 7% off (price inclusive of '\n",
      "            'cashback/coupon)',\n",
      "            'Bank Offer : 10% instant discount on ICICI Bank Credit Cards, up '\n",
      "            'to ₹300, on orders of ₹1750 and above',\n",
      "            'Bank Offer : 10% instant discount on ICICI Bank Debit Cards, up '\n",
      "            'to ₹250, on orders of ₹1750 and above',\n",
      "            'Bank Offer : 5% Cashback on Flipkart Axis Bank Card'],\n",
      " 'original_price': 1999,\n",
      " 'product_id': 'LCHGEHZMFRZJWXBF',\n",
      " 'rating': 3.9,\n",
      " 'seller': {'seller_name': 'STYLEWORLDFASHION', 'seller_rating': 4.5},\n",
      " 'share_url': 'https://www.flipkart.com/jaymogal-fashion-self-design-semi-stitched-lehenga-choli/p/itmc2df4d1727504',\n",
      " 'specs': [],\n",
      " 'thumbnails': ['https://rukminim2.flixcart.com/image/180/180/xif0q/fabric/8/7/0/yes-na-semi-stitched-na-jenee-mandk-enterprise-original-imagehzm8bmnytt5.jpeg?q=50',\n",
      "                'https://rukminim2.flixcart.com/image/180/180/l3hmwsw0/lehenga-choli/z/z/y/free-3-4-sleeve-jannat-maroon-jaymogal-fashion-original-imagehzqxdezhxe3.jpeg?q=50',\n",
      "                'https://rukminim2.flixcart.com/image/180/180/xif0q/fabric/p/4/q/yes-na-semi-stitched-na-jenee-mandk-enterprise-original-imageqyr75zye7z7.jpeg?q=50',\n",
      "                'https://rukminim2.flixcart.com/image/180/180/xif0q/fabric/c/y/u/yes-na-semi-stitched-na-jenee-mandk-enterprise-original-imagehztggpfv6zd.jpeg?q=50',\n",
      "                'https://rukminim2.flixcart.com/image/180/180/xif0q/fabric/x/j/0/yes-na-semi-stitched-na-jenee-mandk-enterprise-original-imageqfzjhtm5xwh.jpeg?q=50',\n",
      "                'https://rukminim2.flixcart.com/image/180/180/xif0q/fabric/x/o/0/yes-na-semi-stitched-na-jenee-mandk-enterprise-original-imagehzfwnsa2pbc.jpeg?q=50',\n",
      "                'https://rukminim2.flixcart.com/image/180/180/l3nco7k0/shopsy-lehenga-choli/b/k/d/free-3-4-sleeve-stitched-34-jannat-black-lehenga-crop-top-original-imageq3fsdmnk8hc.jpeg?q=50']}\n"
     ]
    }
   ],
   "source": [
    "pprint(product_details[0])"
   ]
  },
  {
   "cell_type": "code",
   "execution_count": 86,
   "metadata": {},
   "outputs": [],
   "source": [
    "data = pd.DataFrame(product_details)"
   ]
  },
  {
   "cell_type": "code",
   "execution_count": 87,
   "metadata": {},
   "outputs": [
    {
     "data": {
      "text/plain": [
       "400"
      ]
     },
     "execution_count": 87,
     "metadata": {},
     "output_type": "execute_result"
    }
   ],
   "source": [
    "len(data)"
   ]
  },
  {
   "cell_type": "code",
   "execution_count": 88,
   "metadata": {},
   "outputs": [],
   "source": [
    "Columns = [\"UserID\", \"FirstName\", \"LastName\", \"Age\", \"Gender\", \"Country\", \"ProductsBought\", \"ProductsViewedInLast30Days\", \"ProductsInWishlist\"]\n"
   ]
  },
  {
   "cell_type": "code",
   "execution_count": 89,
   "metadata": {},
   "outputs": [
    {
     "name": "stderr",
     "output_type": "stream",
     "text": [
      "100%|██████████| 1000/1000 [01:42<00:00,  9.74it/s]\n"
     ]
    }
   ],
   "source": [
    "fixed_digits = 6\n",
    "users = pd.DataFrame(columns = Columns)\n",
    "Gender = [\"F\", \"M\", \"O\"]\n",
    "for i in tqdm(range(1000)):\n",
    "    fake = Faker()\n",
    "    data = {}\n",
    "    data[\"UserID\"] = str(random.randrange(111111, 999999, fixed_digits))\n",
    "    data[\"FirstName\"] = fake.first_name()\n",
    "    data[\"LastName\"] = fake.last_name()\n",
    "    data[\"Age\"] = random.randint(15, 80)\n",
    "    data[\"Gender\"] = random.choice(Gender)\n",
    "    data[\"Country\"] = fake.country()\n",
    "    products_bought = []\n",
    "    for j in range(random.randint(1, 15)):\n",
    "        idx = random.randint(0, len(products)-1)\n",
    "        if \"product_id\" in product_details[idx] and product_details[idx][\"in_stock\"]:\n",
    "            products_bought.append([product_details[idx][\"product_id\"],product_details[idx][\"name\"], products[idx][\"query_url\"]])\n",
    "    data[\"ProductsBought\"] = products_bought\n",
    "    products_viewed = []\n",
    "    for j in range(random.randint(1, 15)):\n",
    "        idx = random.randint(0, len(products)-1)\n",
    "        if \"product_id\" in product_details[idx] and product_details[idx][\"in_stock\"]:\n",
    "            products_viewed.append([product_details[idx][\"product_id\"],product_details[idx][\"name\"], products[idx][\"query_url\"]])\n",
    "    data[\"ProductsViewedInLast30Days\"] = products_viewed\n",
    "    products_wishlist = []\n",
    "    for j in range(random.randint(1, 15)):\n",
    "        idx = random.randint(0, len(products)-1)\n",
    "        if \"product_id\" in product_details[idx] and product_details[idx][\"in_stock\"]:\n",
    "            products_wishlist.append([product_details[idx][\"product_id\"],product_details[idx][\"name\"], products[idx][\"query_url\"]])\n",
    "    data[\"ProductsInWishlist\"] = products_wishlist\n",
    "    users.loc[len(users)] = data\n",
    "\n",
    "   "
   ]
  },
  {
   "cell_type": "code",
   "execution_count": 76,
   "metadata": {},
   "outputs": [],
   "source": [
    "users.to_excel('users.xlsx', index=False)\n",
    "users.to_pickle('users.pkl')"
   ]
  }
 ],
 "metadata": {
  "kernelspec": {
   "display_name": "flipkart-grid",
   "language": "python",
   "name": "python3"
  },
  "language_info": {
   "codemirror_mode": {
    "name": "ipython",
    "version": 3
   },
   "file_extension": ".py",
   "mimetype": "text/x-python",
   "name": "python",
   "nbconvert_exporter": "python",
   "pygments_lexer": "ipython3",
   "version": "3.9.17"
  },
  "orig_nbformat": 4
 },
 "nbformat": 4,
 "nbformat_minor": 2
}
