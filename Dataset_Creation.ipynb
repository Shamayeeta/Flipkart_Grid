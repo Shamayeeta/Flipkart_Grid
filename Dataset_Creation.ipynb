{
 "cells": [
  {
   "cell_type": "code",
   "execution_count": 38,
   "metadata": {},
   "outputs": [],
   "source": [
    "import requests\n",
    "from pprint import pprint\n",
    "import pandas as pd\n",
    "import numpy as np\n",
    "from faker import Faker\n",
    "from tqdm import tqdm\n",
    "import random"
   ]
  },
  {
   "cell_type": "code",
   "execution_count": 4,
   "metadata": {},
   "outputs": [],
   "source": [
    "queries = [ [\"red\", \"wedding\", \"lehenga\"],\n",
    "            [\"black\", \"maxi\", \"dress\"], \n",
    "            [\"blue\", \"saree\", \"indian\"],\n",
    "            [\"striped\", \"crop\", \"top\", \"women\"],\n",
    "            [\"denim\", \"jeans\", \"grey\"],\n",
    "            [\"knee-length\", \"boots\", \"brown\"],\n",
    "            [\"white\", \"sandals\", \"fancy\"],\n",
    "            [\"traditional\", \"jhumkas\"],\n",
    "            [\"black\", \"sunglasses\", \"aviator\"],\n",
    "            [\"party\", \"bag\", \"night\"]\n",
    "]"
   ]
  },
  {
   "cell_type": "code",
   "execution_count": 6,
   "metadata": {},
   "outputs": [],
   "source": [
    "products = []\n",
    "for query in queries:\n",
    "    string = \"\"\n",
    "    for i in query:\n",
    "        string += i\n",
    "    url = \"https://flipkart-scraper-api.dvishal485.workers.dev/search/q=\" + string\n",
    "    data = requests.get(url).json()[\"result\"]\n",
    "    products.extend(data)\n",
    "\n"
   ]
  },
  {
   "cell_type": "code",
   "execution_count": 33,
   "metadata": {},
   "outputs": [
    {
     "name": "stderr",
     "output_type": "stream",
     "text": [
      "100%|██████████| 322/322 [16:53<00:00,  3.15s/it]\n"
     ]
    }
   ],
   "source": [
    "product_details = []\n",
    "idx = 0\n",
    "for product in tqdm(products):\n",
    "    url = product[\"query_url\"]\n",
    "    res = requests.get(url)\n",
    "    product_details.append(res.json())\n"
   ]
  },
  {
   "cell_type": "code",
   "execution_count": 34,
   "metadata": {},
   "outputs": [
    {
     "name": "stdout",
     "output_type": "stream",
     "text": [
      "LSDF3BS2YAJPUNFU\n"
     ]
    }
   ],
   "source": [
    "print(product_details[0][\"product_id\"])"
   ]
  },
  {
   "cell_type": "code",
   "execution_count": 35,
   "metadata": {},
   "outputs": [],
   "source": [
    "data = pd.DataFrame(product_details)"
   ]
  },
  {
   "cell_type": "code",
   "execution_count": 36,
   "metadata": {},
   "outputs": [
    {
     "data": {
      "text/plain": [
       "322"
      ]
     },
     "execution_count": 36,
     "metadata": {},
     "output_type": "execute_result"
    }
   ],
   "source": [
    "len(data)"
   ]
  },
  {
   "cell_type": "code",
   "execution_count": 13,
   "metadata": {},
   "outputs": [],
   "source": [
    "Columns = [\"UserID\", \"FirstName\", \"LastName\", \"Age\", \"Gender\", \"Country\", \"ProductsBought\", \"ProductsViewedInLast30Days\", \"ProductsInWishlist\"]\n"
   ]
  },
  {
   "cell_type": "code",
   "execution_count": 67,
   "metadata": {},
   "outputs": [
    {
     "name": "stderr",
     "output_type": "stream",
     "text": [
      "100%|██████████| 1000/1000 [01:00<00:00, 16.51it/s]\n"
     ]
    }
   ],
   "source": [
    "fixed_digits = 6\n",
    "users = pd.DataFrame(columns = Columns)\n",
    "Gender = [\"F\", \"M\", \"O\"]\n",
    "for i in tqdm(range(1000)):\n",
    "    fake = Faker()\n",
    "    data = {}\n",
    "    data[\"UserID\"] = str(random.randrange(111111, 999999, fixed_digits))\n",
    "    data[\"FirstName\"] = fake.first_name()\n",
    "    data[\"LastName\"] = fake.last_name()\n",
    "    data[\"Age\"] = random.randint(15, 80)\n",
    "    data[\"Gender\"] = random.choice(Gender)\n",
    "    data[\"Country\"] = fake.country()\n",
    "    products_bought = []\n",
    "    for j in range(random.randint(1, 15)):\n",
    "        idx = random.randint(0, len(products)-1)\n",
    "        if \"product_id\" in product_details[idx]:\n",
    "            products_bought.append([product_details[idx][\"product_id\"], products[idx][\"query_url\"]])\n",
    "    data[\"ProductsBought\"] = products_bought\n",
    "    products_viewed = []\n",
    "    for j in range(random.randint(1, 15)):\n",
    "        idx = random.randint(0, len(products)-1)\n",
    "        if \"product_id\" in product_details[idx]:\n",
    "            products_viewed.append([product_details[idx][\"product_id\"], products[idx][\"query_url\"]])\n",
    "    data[\"ProductsViewedInLast30Days\"] = products_viewed\n",
    "    products_wishlist = []\n",
    "    for j in range(random.randint(1, 15)):\n",
    "        idx = random.randint(0, len(products)-1)\n",
    "        if \"product_id\" in product_details[idx]:\n",
    "            products_wishlist.append([product_details[idx][\"product_id\"], products[idx][\"query_url\"]])\n",
    "    data[\"ProductsInWishlist\"] = products_wishlist\n",
    "    users.loc[len(users)] = data\n",
    "\n",
    "   "
   ]
  },
  {
   "cell_type": "code",
   "execution_count": 68,
   "metadata": {},
   "outputs": [],
   "source": [
    "users.to_excel('users.xlsx', index=False)\n",
    "users.to_pickle('users.pkl')"
   ]
  }
 ],
 "metadata": {
  "kernelspec": {
   "display_name": "flipkart-grid",
   "language": "python",
   "name": "python3"
  },
  "language_info": {
   "codemirror_mode": {
    "name": "ipython",
    "version": 3
   },
   "file_extension": ".py",
   "mimetype": "text/x-python",
   "name": "python",
   "nbconvert_exporter": "python",
   "pygments_lexer": "ipython3",
   "version": "3.9.17"
  },
  "orig_nbformat": 4
 },
 "nbformat": 4,
 "nbformat_minor": 2
}
