{
 "cells": [
  {
   "cell_type": "code",
   "execution_count": 15,
   "metadata": {},
   "outputs": [],
   "source": [
    "import requests\n",
    "from SimilarityFinder import SimilarityFinder\n",
    "from tqdm import tqdm\n",
    "import pandas as pd"
   ]
  },
  {
   "cell_type": "code",
   "execution_count": 12,
   "metadata": {},
   "outputs": [],
   "source": [
    "queries = [ [\"birthday\", \"dress\"],\n",
    "            [\"interview\", \"formal\", \"shirt\"],\n",
    "            [\"wedding\", \"suit\", \"tie\"],\n",
    "            [\"trek\", \"backpack\", \"shoes\"],\n",
    "            [\"beach\", \"outfit\"]\n",
    "]"
   ]
  },
  {
   "cell_type": "code",
   "execution_count": 13,
   "metadata": {},
   "outputs": [],
   "source": [
    "products = []\n",
    "for query in queries:\n",
    "    string = \"+\".join(query)\n",
    "    url = \"https://flipkart-scraper-api.dvishal485.workers.dev/search/q=\" + string\n",
    "    res = requests.get(url).json()[\"result\"]\n",
    "    products.extend(res)\n"
   ]
  },
  {
   "cell_type": "code",
   "execution_count": 14,
   "metadata": {},
   "outputs": [
    {
     "name": "stderr",
     "output_type": "stream",
     "text": [
      "100%|██████████| 183/183 [07:44<00:00,  2.54s/it]\n"
     ]
    }
   ],
   "source": [
    "product_details = []\n",
    "idx = 0\n",
    "for product in tqdm(products):\n",
    "    url = product[\"query_url\"]\n",
    "    res = requests.get(url)\n",
    "    product_details.append(res.json())"
   ]
  },
  {
   "cell_type": "code",
   "execution_count": 16,
   "metadata": {},
   "outputs": [],
   "source": [
    "data = pd.DataFrame(product_details)"
   ]
  },
  {
   "cell_type": "code",
   "execution_count": 17,
   "metadata": {},
   "outputs": [
    {
     "data": {
      "text/html": [
       "<div>\n",
       "<style scoped>\n",
       "    .dataframe tbody tr th:only-of-type {\n",
       "        vertical-align: middle;\n",
       "    }\n",
       "\n",
       "    .dataframe tbody tr th {\n",
       "        vertical-align: top;\n",
       "    }\n",
       "\n",
       "    .dataframe thead th {\n",
       "        text-align: right;\n",
       "    }\n",
       "</style>\n",
       "<table border=\"1\" class=\"dataframe\">\n",
       "  <thead>\n",
       "    <tr style=\"text-align: right;\">\n",
       "      <th></th>\n",
       "      <th>name</th>\n",
       "      <th>current_price</th>\n",
       "      <th>original_price</th>\n",
       "      <th>discounted</th>\n",
       "      <th>discount_percent</th>\n",
       "      <th>rating</th>\n",
       "      <th>in_stock</th>\n",
       "      <th>f_assured</th>\n",
       "      <th>share_url</th>\n",
       "      <th>seller</th>\n",
       "      <th>thumbnails</th>\n",
       "      <th>highlights</th>\n",
       "      <th>product_id</th>\n",
       "      <th>offers</th>\n",
       "      <th>specs</th>\n",
       "      <th>error</th>\n",
       "      <th>possible_solution</th>\n",
       "      <th>bug_report</th>\n",
       "    </tr>\n",
       "  </thead>\n",
       "  <tbody>\n",
       "    <tr>\n",
       "      <th>0</th>\n",
       "      <td>HIVA TRENDZ Women Fit and Flare Black, Dark Gr...</td>\n",
       "      <td>219.0</td>\n",
       "      <td>699.0</td>\n",
       "      <td>True</td>\n",
       "      <td>68.0</td>\n",
       "      <td>3.7</td>\n",
       "      <td>True</td>\n",
       "      <td>True</td>\n",
       "      <td>https://www.flipkart.com/hiva-trendz-women-fit...</td>\n",
       "      <td>{'seller_name': 'HIVA TRENDZ', 'seller_rating'...</td>\n",
       "      <td>[https://rukminim2.flixcart.com/image/180/180/...</td>\n",
       "      <td>[]</td>\n",
       "      <td>DREGP6PFBJGFUBUA</td>\n",
       "      <td>[Special Price : Get at flat ₹219, Bank Offer ...</td>\n",
       "      <td>[]</td>\n",
       "      <td>NaN</td>\n",
       "      <td>NaN</td>\n",
       "      <td>NaN</td>\n",
       "    </tr>\n",
       "    <tr>\n",
       "      <th>1</th>\n",
       "      <td>Shree Ramkrishna Fab Women Maxi Brown Dress</td>\n",
       "      <td>849.0</td>\n",
       "      <td>2999.0</td>\n",
       "      <td>True</td>\n",
       "      <td>71.0</td>\n",
       "      <td>4.2</td>\n",
       "      <td>True</td>\n",
       "      <td>True</td>\n",
       "      <td>https://www.flipkart.com/shree-ramkrishna-fab-...</td>\n",
       "      <td>{'seller_name': 'Town', 'seller_rating': 4.3}</td>\n",
       "      <td>[https://rukminim2.flixcart.com/image/180/180/...</td>\n",
       "      <td>[]</td>\n",
       "      <td>DREGM6W8WHDCHWZR</td>\n",
       "      <td>[Special Price : Get extra 15% off (price incl...</td>\n",
       "      <td>[]</td>\n",
       "      <td>NaN</td>\n",
       "      <td>NaN</td>\n",
       "      <td>NaN</td>\n",
       "    </tr>\n",
       "    <tr>\n",
       "      <th>2</th>\n",
       "      <td>Manaitri Baby Girls Calf Length Casual Dress</td>\n",
       "      <td>387.0</td>\n",
       "      <td>1499.0</td>\n",
       "      <td>True</td>\n",
       "      <td>74.0</td>\n",
       "      <td>3.8</td>\n",
       "      <td>True</td>\n",
       "      <td>True</td>\n",
       "      <td>https://www.flipkart.com/manaitri-girls-calf-l...</td>\n",
       "      <td>{'seller_name': 'Usha Fashion', 'seller_rating...</td>\n",
       "      <td>[]</td>\n",
       "      <td>[]</td>\n",
       "      <td>KDEGMWJWEGGAKVYM</td>\n",
       "      <td>[Special Price : Get extra 11% off (price incl...</td>\n",
       "      <td>[]</td>\n",
       "      <td>NaN</td>\n",
       "      <td>NaN</td>\n",
       "      <td>NaN</td>\n",
       "    </tr>\n",
       "    <tr>\n",
       "      <th>3</th>\n",
       "      <td>Manaitri Girls Midi/Knee Length Party Dress</td>\n",
       "      <td>328.0</td>\n",
       "      <td>1499.0</td>\n",
       "      <td>True</td>\n",
       "      <td>78.0</td>\n",
       "      <td>3.7</td>\n",
       "      <td>True</td>\n",
       "      <td>True</td>\n",
       "      <td>https://dl.flipkart.com/dl/manaitri-girls-midi...</td>\n",
       "      <td>{'seller_name': 'Usha Fashion', 'seller_rating...</td>\n",
       "      <td>[]</td>\n",
       "      <td>[]</td>\n",
       "      <td>KDEGN6P4WQGSPYX9</td>\n",
       "      <td>[Special Price : Get extra 20% off (price incl...</td>\n",
       "      <td>[]</td>\n",
       "      <td>NaN</td>\n",
       "      <td>NaN</td>\n",
       "      <td>NaN</td>\n",
       "    </tr>\n",
       "    <tr>\n",
       "      <th>4</th>\n",
       "      <td>Manaitri Barbie Girls Calf Length Casual Dress</td>\n",
       "      <td>332.0</td>\n",
       "      <td>1499.0</td>\n",
       "      <td>True</td>\n",
       "      <td>77.0</td>\n",
       "      <td>3.8</td>\n",
       "      <td>True</td>\n",
       "      <td>True</td>\n",
       "      <td>https://dl.flipkart.com/dl/manaitri-girls-calf...</td>\n",
       "      <td>{'seller_name': 'Usha Fashion', 'seller_rating...</td>\n",
       "      <td>[]</td>\n",
       "      <td>[]</td>\n",
       "      <td>KDEGMWDZPGW2GAV9</td>\n",
       "      <td>[Special Price : Get extra 20% off (price incl...</td>\n",
       "      <td>[]</td>\n",
       "      <td>NaN</td>\n",
       "      <td>NaN</td>\n",
       "      <td>NaN</td>\n",
       "    </tr>\n",
       "  </tbody>\n",
       "</table>\n",
       "</div>"
      ],
      "text/plain": [
       "                                                name  current_price  \\\n",
       "0  HIVA TRENDZ Women Fit and Flare Black, Dark Gr...          219.0   \n",
       "1        Shree Ramkrishna Fab Women Maxi Brown Dress          849.0   \n",
       "2       Manaitri Baby Girls Calf Length Casual Dress          387.0   \n",
       "3        Manaitri Girls Midi/Knee Length Party Dress          328.0   \n",
       "4     Manaitri Barbie Girls Calf Length Casual Dress          332.0   \n",
       "\n",
       "   original_price discounted  discount_percent  rating in_stock f_assured  \\\n",
       "0           699.0       True              68.0     3.7     True      True   \n",
       "1          2999.0       True              71.0     4.2     True      True   \n",
       "2          1499.0       True              74.0     3.8     True      True   \n",
       "3          1499.0       True              78.0     3.7     True      True   \n",
       "4          1499.0       True              77.0     3.8     True      True   \n",
       "\n",
       "                                           share_url  \\\n",
       "0  https://www.flipkart.com/hiva-trendz-women-fit...   \n",
       "1  https://www.flipkart.com/shree-ramkrishna-fab-...   \n",
       "2  https://www.flipkart.com/manaitri-girls-calf-l...   \n",
       "3  https://dl.flipkart.com/dl/manaitri-girls-midi...   \n",
       "4  https://dl.flipkart.com/dl/manaitri-girls-calf...   \n",
       "\n",
       "                                              seller  \\\n",
       "0  {'seller_name': 'HIVA TRENDZ', 'seller_rating'...   \n",
       "1      {'seller_name': 'Town', 'seller_rating': 4.3}   \n",
       "2  {'seller_name': 'Usha Fashion', 'seller_rating...   \n",
       "3  {'seller_name': 'Usha Fashion', 'seller_rating...   \n",
       "4  {'seller_name': 'Usha Fashion', 'seller_rating...   \n",
       "\n",
       "                                          thumbnails highlights  \\\n",
       "0  [https://rukminim2.flixcart.com/image/180/180/...         []   \n",
       "1  [https://rukminim2.flixcart.com/image/180/180/...         []   \n",
       "2                                                 []         []   \n",
       "3                                                 []         []   \n",
       "4                                                 []         []   \n",
       "\n",
       "         product_id                                             offers specs  \\\n",
       "0  DREGP6PFBJGFUBUA  [Special Price : Get at flat ₹219, Bank Offer ...    []   \n",
       "1  DREGM6W8WHDCHWZR  [Special Price : Get extra 15% off (price incl...    []   \n",
       "2  KDEGMWJWEGGAKVYM  [Special Price : Get extra 11% off (price incl...    []   \n",
       "3  KDEGN6P4WQGSPYX9  [Special Price : Get extra 20% off (price incl...    []   \n",
       "4  KDEGMWDZPGW2GAV9  [Special Price : Get extra 20% off (price incl...    []   \n",
       "\n",
       "  error possible_solution bug_report  \n",
       "0   NaN               NaN        NaN  \n",
       "1   NaN               NaN        NaN  \n",
       "2   NaN               NaN        NaN  \n",
       "3   NaN               NaN        NaN  \n",
       "4   NaN               NaN        NaN  "
      ]
     },
     "execution_count": 17,
     "metadata": {},
     "output_type": "execute_result"
    }
   ],
   "source": [
    "data.head()"
   ]
  },
  {
   "cell_type": "code",
   "execution_count": 29,
   "metadata": {},
   "outputs": [],
   "source": [
    "users = pd.read_pickle('users.pkl')"
   ]
  },
  {
   "cell_type": "code",
   "execution_count": 20,
   "metadata": {},
   "outputs": [
    {
     "name": "stdout",
     "output_type": "stream",
     "text": [
      "HIVA TRENDZ Women Fit and Flare Black, Dark Green, Orange Dress\n"
     ]
    }
   ],
   "source": [
    "sim = SimilarityFinder('sentence-transformers/all-mpnet-base-v2')\n",
    "sentence1 = data.iloc[0]['name']\n",
    "print(sentence1)\n",
    "emb1 = sim.calculate_embeddings(sentence1)"
   ]
  },
  {
   "cell_type": "code",
   "execution_count": 40,
   "metadata": {},
   "outputs": [
    {
     "data": {
      "text/html": [
       "<div>\n",
       "<style scoped>\n",
       "    .dataframe tbody tr th:only-of-type {\n",
       "        vertical-align: middle;\n",
       "    }\n",
       "\n",
       "    .dataframe tbody tr th {\n",
       "        vertical-align: top;\n",
       "    }\n",
       "\n",
       "    .dataframe thead th {\n",
       "        text-align: right;\n",
       "    }\n",
       "</style>\n",
       "<table border=\"1\" class=\"dataframe\">\n",
       "  <thead>\n",
       "    <tr style=\"text-align: right;\">\n",
       "      <th></th>\n",
       "      <th>UserID</th>\n",
       "      <th>FirstName</th>\n",
       "      <th>LastName</th>\n",
       "      <th>Age</th>\n",
       "      <th>Gender</th>\n",
       "      <th>Country</th>\n",
       "      <th>ProductsBought</th>\n",
       "      <th>ProductsViewedInLast30Days</th>\n",
       "      <th>ProductsInWishlist</th>\n",
       "    </tr>\n",
       "  </thead>\n",
       "  <tbody>\n",
       "    <tr>\n",
       "      <th>0</th>\n",
       "      <td>352449</td>\n",
       "      <td>Teresa</td>\n",
       "      <td>Johnson</td>\n",
       "      <td>52</td>\n",
       "      <td>M</td>\n",
       "      <td>Micronesia</td>\n",
       "      <td>[[SGLF84PQ95MAP857, Silver Kartz UV Protection...</td>\n",
       "      <td>[[SNDG5FR793G4VY3Q, Wildcraft Men Multicolor S...</td>\n",
       "      <td>[[SHOGKYNZ9GXSEVWH, Hitpro BwBoots6 Boots For ...</td>\n",
       "    </tr>\n",
       "    <tr>\n",
       "      <th>1</th>\n",
       "      <td>199167</td>\n",
       "      <td>Patrick</td>\n",
       "      <td>Sheppard</td>\n",
       "      <td>35</td>\n",
       "      <td>M</td>\n",
       "      <td>Equatorial Guinea</td>\n",
       "      <td>[[TOPGG9ZCXMZ4BFFQ, KASSUALLY Casual Sleeveles...</td>\n",
       "      <td>[[TOPGG9ZCXMZ4BFFQ, KASSUALLY Casual Sleeveles...</td>\n",
       "      <td>[[TOGFYHFZDSZJJXMD, ABYS Sling Bag || Backpack...</td>\n",
       "    </tr>\n",
       "    <tr>\n",
       "      <th>2</th>\n",
       "      <td>273321</td>\n",
       "      <td>Michelle</td>\n",
       "      <td>Shields</td>\n",
       "      <td>19</td>\n",
       "      <td>F</td>\n",
       "      <td>El Salvador</td>\n",
       "      <td>[[DREFECH2HZX4YFKN, MUDRIKA Women Maxi Light B...</td>\n",
       "      <td>[[SARG3GJGXRN2ZSVZ, Flip The Style Printed Bol...</td>\n",
       "      <td>[[SGLGEERZCJKACGMA, METRONAUT UV Protection Su...</td>\n",
       "    </tr>\n",
       "    <tr>\n",
       "      <th>3</th>\n",
       "      <td>230367</td>\n",
       "      <td>David</td>\n",
       "      <td>Powell</td>\n",
       "      <td>32</td>\n",
       "      <td>M</td>\n",
       "      <td>Djibouti</td>\n",
       "      <td>[[SHOGHGG3M9XTAHYE, MACTREE Classy Trendy Fit-...</td>\n",
       "      <td>[[SGLGQ8VYM22C2FQ7, Hench UV Protection Aviato...</td>\n",
       "      <td>[[SGLGH2GFKPFUDHZG, Intellilens UV Protection,...</td>\n",
       "    </tr>\n",
       "    <tr>\n",
       "      <th>4</th>\n",
       "      <td>383343</td>\n",
       "      <td>Brian</td>\n",
       "      <td>Hamilton</td>\n",
       "      <td>33</td>\n",
       "      <td>M</td>\n",
       "      <td>Tunisia</td>\n",
       "      <td>[[TOPFAY4BGMKT4T68, KASSUALLY Casual Flared Sl...</td>\n",
       "      <td>[[ERGFYZ6X6NBNJFMD, MEENAZ Traditional South i...</td>\n",
       "      <td>[[SNDFYUYR8VTG3NXE, Paragon Men K1405G Stylish...</td>\n",
       "    </tr>\n",
       "  </tbody>\n",
       "</table>\n",
       "</div>"
      ],
      "text/plain": [
       "   UserID FirstName  LastName  Age Gender            Country  \\\n",
       "0  352449    Teresa   Johnson   52      M         Micronesia   \n",
       "1  199167   Patrick  Sheppard   35      M  Equatorial Guinea   \n",
       "2  273321  Michelle   Shields   19      F        El Salvador   \n",
       "3  230367     David    Powell   32      M           Djibouti   \n",
       "4  383343     Brian  Hamilton   33      M            Tunisia   \n",
       "\n",
       "                                      ProductsBought  \\\n",
       "0  [[SGLF84PQ95MAP857, Silver Kartz UV Protection...   \n",
       "1  [[TOPGG9ZCXMZ4BFFQ, KASSUALLY Casual Sleeveles...   \n",
       "2  [[DREFECH2HZX4YFKN, MUDRIKA Women Maxi Light B...   \n",
       "3  [[SHOGHGG3M9XTAHYE, MACTREE Classy Trendy Fit-...   \n",
       "4  [[TOPFAY4BGMKT4T68, KASSUALLY Casual Flared Sl...   \n",
       "\n",
       "                          ProductsViewedInLast30Days  \\\n",
       "0  [[SNDG5FR793G4VY3Q, Wildcraft Men Multicolor S...   \n",
       "1  [[TOPGG9ZCXMZ4BFFQ, KASSUALLY Casual Sleeveles...   \n",
       "2  [[SARG3GJGXRN2ZSVZ, Flip The Style Printed Bol...   \n",
       "3  [[SGLGQ8VYM22C2FQ7, Hench UV Protection Aviato...   \n",
       "4  [[ERGFYZ6X6NBNJFMD, MEENAZ Traditional South i...   \n",
       "\n",
       "                                  ProductsInWishlist  \n",
       "0  [[SHOGKYNZ9GXSEVWH, Hitpro BwBoots6 Boots For ...  \n",
       "1  [[TOGFYHFZDSZJJXMD, ABYS Sling Bag || Backpack...  \n",
       "2  [[SGLGEERZCJKACGMA, METRONAUT UV Protection Su...  \n",
       "3  [[SGLGH2GFKPFUDHZG, Intellilens UV Protection,...  \n",
       "4  [[SNDFYUYR8VTG3NXE, Paragon Men K1405G Stylish...  "
      ]
     },
     "execution_count": 40,
     "metadata": {},
     "output_type": "execute_result"
    }
   ],
   "source": [
    "users.head()"
   ]
  },
  {
   "cell_type": "code",
   "execution_count": 41,
   "metadata": {},
   "outputs": [
    {
     "name": "stdout",
     "output_type": "stream",
     "text": [
      "['TOPGG9ZCXMZ4BFFQ', 'KASSUALLY\\xa0Casual Sleeveless Striped Women Black Top', 'https://flipkart-scraper-api.dvishal485.workers.dev/product/kassually-casual-striped-women-black-top/p/itm875c2f10d5569']\n"
     ]
    }
   ],
   "source": [
    "sentence2 = users.iloc[1][\"ProductsBought\"][0]\n",
    "print(sentence2)"
   ]
  },
  {
   "cell_type": "code",
   "execution_count": 42,
   "metadata": {},
   "outputs": [
    {
     "name": "stdout",
     "output_type": "stream",
     "text": [
      "KASSUALLY Casual Sleeveless Striped Women Black Top\n"
     ]
    }
   ],
   "source": [
    "print(sentence2[1])\n",
    "emb2 = sim.calculate_embeddings(sentence2[1])"
   ]
  },
  {
   "cell_type": "code",
   "execution_count": 43,
   "metadata": {},
   "outputs": [
    {
     "name": "stdout",
     "output_type": "stream",
     "text": [
      "tensor([[0.6144]])\n"
     ]
    }
   ],
   "source": [
    "print(sim.calculate_similarity(emb1,emb2))"
   ]
  }
 ],
 "metadata": {
  "kernelspec": {
   "display_name": "flipkart-grid",
   "language": "python",
   "name": "python3"
  },
  "language_info": {
   "codemirror_mode": {
    "name": "ipython",
    "version": 3
   },
   "file_extension": ".py",
   "mimetype": "text/x-python",
   "name": "python",
   "nbconvert_exporter": "python",
   "pygments_lexer": "ipython3",
   "version": "3.9.17"
  },
  "orig_nbformat": 4
 },
 "nbformat": 4,
 "nbformat_minor": 2
}
