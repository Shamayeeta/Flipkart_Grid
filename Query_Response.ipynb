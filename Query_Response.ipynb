{
 "cells": [
  {
   "cell_type": "code",
   "execution_count": 4,
   "metadata": {},
   "outputs": [
    {
     "ename": "ImportError",
     "evalue": "DLL load failed while importing _openmp_helpers: Not enough memory resources are available to process this command.",
     "output_type": "error",
     "traceback": [
      "\u001b[1;31m---------------------------------------------------------------------------\u001b[0m",
      "\u001b[1;31mImportError\u001b[0m                               Traceback (most recent call last)",
      "Cell \u001b[1;32mIn[4], line 10\u001b[0m\n\u001b[0;32m      8\u001b[0m \u001b[39mfrom\u001b[39;00m \u001b[39mpprint\u001b[39;00m \u001b[39mimport\u001b[39;00m pprint\n\u001b[0;32m      9\u001b[0m \u001b[39mimport\u001b[39;00m \u001b[39mpandas\u001b[39;00m \u001b[39mas\u001b[39;00m \u001b[39mpd\u001b[39;00m\n\u001b[1;32m---> 10\u001b[0m \u001b[39mfrom\u001b[39;00m \u001b[39mSimilarityFinder\u001b[39;00m \u001b[39mimport\u001b[39;00m SimilarityFinder\n\u001b[0;32m     11\u001b[0m \u001b[39mfrom\u001b[39;00m \u001b[39mheapq\u001b[39;00m \u001b[39mimport\u001b[39;00m heappop, heappush, heapify\n",
      "File \u001b[1;32md:\\Projects\\Flipkart_Grid\\SimilarityFinder.py:1\u001b[0m\n\u001b[1;32m----> 1\u001b[0m \u001b[39mfrom\u001b[39;00m \u001b[39msentence_transformers\u001b[39;00m \u001b[39mimport\u001b[39;00m SentenceTransformer, util\n\u001b[0;32m      3\u001b[0m \u001b[39mclass\u001b[39;00m \u001b[39mSimilarityFinder\u001b[39;00m:\n\u001b[0;32m      5\u001b[0m     \u001b[39mdef\u001b[39;00m \u001b[39m__init__\u001b[39m(\u001b[39mself\u001b[39m, model_name):\n",
      "File \u001b[1;32mc:\\Users\\shawa\\AppData\\Local\\anaconda3\\envs\\ml_env\\lib\\site-packages\\sentence_transformers\\__init__.py:3\u001b[0m\n\u001b[0;32m      1\u001b[0m __version__ \u001b[39m=\u001b[39m \u001b[39m\"\u001b[39m\u001b[39m2.2.2\u001b[39m\u001b[39m\"\u001b[39m\n\u001b[0;32m      2\u001b[0m __MODEL_HUB_ORGANIZATION__ \u001b[39m=\u001b[39m \u001b[39m'\u001b[39m\u001b[39msentence-transformers\u001b[39m\u001b[39m'\u001b[39m\n\u001b[1;32m----> 3\u001b[0m \u001b[39mfrom\u001b[39;00m \u001b[39m.\u001b[39;00m\u001b[39mdatasets\u001b[39;00m \u001b[39mimport\u001b[39;00m SentencesDataset, ParallelSentencesDataset\n\u001b[0;32m      4\u001b[0m \u001b[39mfrom\u001b[39;00m \u001b[39m.\u001b[39;00m\u001b[39mLoggingHandler\u001b[39;00m \u001b[39mimport\u001b[39;00m LoggingHandler\n\u001b[0;32m      5\u001b[0m \u001b[39mfrom\u001b[39;00m \u001b[39m.\u001b[39;00m\u001b[39mSentenceTransformer\u001b[39;00m \u001b[39mimport\u001b[39;00m SentenceTransformer\n",
      "File \u001b[1;32mc:\\Users\\shawa\\AppData\\Local\\anaconda3\\envs\\ml_env\\lib\\site-packages\\sentence_transformers\\datasets\\__init__.py:3\u001b[0m\n\u001b[0;32m      1\u001b[0m \u001b[39mfrom\u001b[39;00m \u001b[39m.\u001b[39;00m\u001b[39mDenoisingAutoEncoderDataset\u001b[39;00m \u001b[39mimport\u001b[39;00m DenoisingAutoEncoderDataset\n\u001b[0;32m      2\u001b[0m \u001b[39mfrom\u001b[39;00m \u001b[39m.\u001b[39;00m\u001b[39mNoDuplicatesDataLoader\u001b[39;00m \u001b[39mimport\u001b[39;00m NoDuplicatesDataLoader\n\u001b[1;32m----> 3\u001b[0m \u001b[39mfrom\u001b[39;00m \u001b[39m.\u001b[39;00m\u001b[39mParallelSentencesDataset\u001b[39;00m \u001b[39mimport\u001b[39;00m ParallelSentencesDataset\n\u001b[0;32m      4\u001b[0m \u001b[39mfrom\u001b[39;00m \u001b[39m.\u001b[39;00m\u001b[39mSentencesDataset\u001b[39;00m \u001b[39mimport\u001b[39;00m SentencesDataset\n\u001b[0;32m      5\u001b[0m \u001b[39mfrom\u001b[39;00m \u001b[39m.\u001b[39;00m\u001b[39mSentenceLabelDataset\u001b[39;00m \u001b[39mimport\u001b[39;00m SentenceLabelDataset\n",
      "File \u001b[1;32mc:\\Users\\shawa\\AppData\\Local\\anaconda3\\envs\\ml_env\\lib\\site-packages\\sentence_transformers\\datasets\\ParallelSentencesDataset.py:4\u001b[0m\n\u001b[0;32m      2\u001b[0m \u001b[39mimport\u001b[39;00m \u001b[39mlogging\u001b[39;00m\n\u001b[0;32m      3\u001b[0m \u001b[39mimport\u001b[39;00m \u001b[39mgzip\u001b[39;00m\n\u001b[1;32m----> 4\u001b[0m \u001b[39mfrom\u001b[39;00m \u001b[39m.\u001b[39;00m\u001b[39m.\u001b[39;00m \u001b[39mimport\u001b[39;00m SentenceTransformer\n\u001b[0;32m      5\u001b[0m \u001b[39mfrom\u001b[39;00m \u001b[39m.\u001b[39;00m\u001b[39m.\u001b[39;00m\u001b[39mreaders\u001b[39;00m \u001b[39mimport\u001b[39;00m InputExample\n\u001b[0;32m      6\u001b[0m \u001b[39mfrom\u001b[39;00m \u001b[39mtyping\u001b[39;00m \u001b[39mimport\u001b[39;00m List\n",
      "File \u001b[1;32mc:\\Users\\shawa\\AppData\\Local\\anaconda3\\envs\\ml_env\\lib\\site-packages\\sentence_transformers\\SentenceTransformer.py:25\u001b[0m\n\u001b[0;32m     22\u001b[0m \u001b[39mfrom\u001b[39;00m \u001b[39mdistutils\u001b[39;00m\u001b[39m.\u001b[39;00m\u001b[39mdir_util\u001b[39;00m \u001b[39mimport\u001b[39;00m copy_tree\n\u001b[0;32m     24\u001b[0m \u001b[39mfrom\u001b[39;00m \u001b[39m.\u001b[39;00m \u001b[39mimport\u001b[39;00m __MODEL_HUB_ORGANIZATION__\n\u001b[1;32m---> 25\u001b[0m \u001b[39mfrom\u001b[39;00m \u001b[39m.\u001b[39;00m\u001b[39mevaluation\u001b[39;00m \u001b[39mimport\u001b[39;00m SentenceEvaluator\n\u001b[0;32m     26\u001b[0m \u001b[39mfrom\u001b[39;00m \u001b[39m.\u001b[39;00m\u001b[39mutil\u001b[39;00m \u001b[39mimport\u001b[39;00m import_from_string, batch_to_device, fullname, snapshot_download\n\u001b[0;32m     27\u001b[0m \u001b[39mfrom\u001b[39;00m \u001b[39m.\u001b[39;00m\u001b[39mmodels\u001b[39;00m \u001b[39mimport\u001b[39;00m Transformer, Pooling, Dense\n",
      "File \u001b[1;32mc:\\Users\\shawa\\AppData\\Local\\anaconda3\\envs\\ml_env\\lib\\site-packages\\sentence_transformers\\evaluation\\__init__.py:3\u001b[0m\n\u001b[0;32m      1\u001b[0m \u001b[39mfrom\u001b[39;00m \u001b[39m.\u001b[39;00m\u001b[39mSentenceEvaluator\u001b[39;00m \u001b[39mimport\u001b[39;00m SentenceEvaluator\n\u001b[0;32m      2\u001b[0m \u001b[39mfrom\u001b[39;00m \u001b[39m.\u001b[39;00m\u001b[39mSimilarityFunction\u001b[39;00m \u001b[39mimport\u001b[39;00m SimilarityFunction\n\u001b[1;32m----> 3\u001b[0m \u001b[39mfrom\u001b[39;00m \u001b[39m.\u001b[39;00m\u001b[39mBinaryClassificationEvaluator\u001b[39;00m \u001b[39mimport\u001b[39;00m BinaryClassificationEvaluator\n\u001b[0;32m      4\u001b[0m \u001b[39mfrom\u001b[39;00m \u001b[39m.\u001b[39;00m\u001b[39mEmbeddingSimilarityEvaluator\u001b[39;00m \u001b[39mimport\u001b[39;00m EmbeddingSimilarityEvaluator\n\u001b[0;32m      5\u001b[0m \u001b[39mfrom\u001b[39;00m \u001b[39m.\u001b[39;00m\u001b[39mInformationRetrievalEvaluator\u001b[39;00m \u001b[39mimport\u001b[39;00m InformationRetrievalEvaluator\n",
      "File \u001b[1;32mc:\\Users\\shawa\\AppData\\Local\\anaconda3\\envs\\ml_env\\lib\\site-packages\\sentence_transformers\\evaluation\\BinaryClassificationEvaluator.py:5\u001b[0m\n\u001b[0;32m      3\u001b[0m \u001b[39mimport\u001b[39;00m \u001b[39mos\u001b[39;00m\n\u001b[0;32m      4\u001b[0m \u001b[39mimport\u001b[39;00m \u001b[39mcsv\u001b[39;00m\n\u001b[1;32m----> 5\u001b[0m \u001b[39mfrom\u001b[39;00m \u001b[39msklearn\u001b[39;00m\u001b[39m.\u001b[39;00m\u001b[39mmetrics\u001b[39;00m\u001b[39m.\u001b[39;00m\u001b[39mpairwise\u001b[39;00m \u001b[39mimport\u001b[39;00m paired_cosine_distances, paired_euclidean_distances, paired_manhattan_distances\n\u001b[0;32m      6\u001b[0m \u001b[39mfrom\u001b[39;00m \u001b[39msklearn\u001b[39;00m\u001b[39m.\u001b[39;00m\u001b[39mmetrics\u001b[39;00m \u001b[39mimport\u001b[39;00m average_precision_score\n\u001b[0;32m      7\u001b[0m \u001b[39mimport\u001b[39;00m \u001b[39mnumpy\u001b[39;00m \u001b[39mas\u001b[39;00m \u001b[39mnp\u001b[39;00m\n",
      "File \u001b[1;32mc:\\Users\\shawa\\AppData\\Local\\anaconda3\\envs\\ml_env\\lib\\site-packages\\sklearn\\__init__.py:83\u001b[0m\n\u001b[0;32m     81\u001b[0m     \u001b[39mfrom\u001b[39;00m \u001b[39m.\u001b[39;00m \u001b[39mimport\u001b[39;00m __check_build  \u001b[39m# noqa: F401\u001b[39;00m\n\u001b[0;32m     82\u001b[0m     \u001b[39mfrom\u001b[39;00m \u001b[39m.\u001b[39;00m\u001b[39mbase\u001b[39;00m \u001b[39mimport\u001b[39;00m clone\n\u001b[1;32m---> 83\u001b[0m     \u001b[39mfrom\u001b[39;00m \u001b[39m.\u001b[39;00m\u001b[39mutils\u001b[39;00m\u001b[39m.\u001b[39;00m\u001b[39m_show_versions\u001b[39;00m \u001b[39mimport\u001b[39;00m show_versions\n\u001b[0;32m     85\u001b[0m     __all__ \u001b[39m=\u001b[39m [\n\u001b[0;32m     86\u001b[0m         \u001b[39m\"\u001b[39m\u001b[39mcalibration\u001b[39m\u001b[39m\"\u001b[39m,\n\u001b[0;32m     87\u001b[0m         \u001b[39m\"\u001b[39m\u001b[39mcluster\u001b[39m\u001b[39m\"\u001b[39m,\n\u001b[1;32m   (...)\u001b[0m\n\u001b[0;32m    128\u001b[0m         \u001b[39m\"\u001b[39m\u001b[39mshow_versions\u001b[39m\u001b[39m\"\u001b[39m,\n\u001b[0;32m    129\u001b[0m     ]\n\u001b[0;32m    132\u001b[0m \u001b[39mdef\u001b[39;00m \u001b[39msetup_module\u001b[39m(module):\n",
      "File \u001b[1;32mc:\\Users\\shawa\\AppData\\Local\\anaconda3\\envs\\ml_env\\lib\\site-packages\\sklearn\\utils\\_show_versions.py:14\u001b[0m\n\u001b[0;32m     10\u001b[0m \u001b[39mfrom\u001b[39;00m \u001b[39m.\u001b[39;00m\u001b[39m.\u001b[39;00m\u001b[39mutils\u001b[39;00m\u001b[39m.\u001b[39;00m\u001b[39mfixes\u001b[39;00m \u001b[39mimport\u001b[39;00m threadpool_info\n\u001b[0;32m     11\u001b[0m \u001b[39mfrom\u001b[39;00m \u001b[39m.\u001b[39;00m\u001b[39m.\u001b[39;00m \u001b[39mimport\u001b[39;00m __version__\n\u001b[1;32m---> 14\u001b[0m \u001b[39mfrom\u001b[39;00m \u001b[39m.\u001b[39;00m\u001b[39m_openmp_helpers\u001b[39;00m \u001b[39mimport\u001b[39;00m _openmp_parallelism_enabled\n\u001b[0;32m     17\u001b[0m \u001b[39mdef\u001b[39;00m \u001b[39m_get_sys_info\u001b[39m():\n\u001b[0;32m     18\u001b[0m \u001b[39m    \u001b[39m\u001b[39m\"\"\"System information\u001b[39;00m\n\u001b[0;32m     19\u001b[0m \n\u001b[0;32m     20\u001b[0m \u001b[39m    Returns\u001b[39;00m\n\u001b[1;32m   (...)\u001b[0m\n\u001b[0;32m     24\u001b[0m \n\u001b[0;32m     25\u001b[0m \u001b[39m    \"\"\"\u001b[39;00m\n",
      "\u001b[1;31mImportError\u001b[0m: DLL load failed while importing _openmp_helpers: Not enough memory resources are available to process this command."
     ]
    },
    {
     "ename": "",
     "evalue": "",
     "output_type": "error",
     "traceback": [
      "\u001b[1;31mThe Kernel crashed while executing code in the the current cell or a previous cell. Please review the code in the cell(s) to identify a possible cause of the failure. Click <a href='https://aka.ms/vscodeJupyterKernelCrash'>here</a> for more info. View Jupyter <a href='command:jupyter.viewOutput'>log</a> for further details."
     ]
    }
   ],
   "source": [
    "from collections import Counter\n",
    "from string import punctuation\n",
    "import spacy\n",
    "import numpy as np\n",
    "import requests\n",
    "from tqdm import tqdm\n",
    "from collections import defaultdict\n",
    "from pprint import pprint\n",
    "import pandas as pd\n",
    "from SimilarityFinder import SimilarityFinder\n",
    "from heapq import heappop, heappush, heapify\n",
    "import random\n"
   ]
  },
  {
   "cell_type": "code",
   "execution_count": null,
   "metadata": {},
   "outputs": [],
   "source": [
    "data = {\n",
    "    \"occasions\": [\"wedding\", \"party\", \"interview\", \"birthday\", \"promotion\", \"anniversary\", \"trek\", \"trip\"],\n",
    "    \"tops\": [\"shirt\", \"top\", \"t-shirt\", \"crop top\", \"tank top\", \"blouse\"],\n",
    "    \"bottoms\": [\"jeans\", \"skirt\", \"shorts\", \"pants\", \"trousers\", \"leggings\", \"joggers\"],\n",
    "    \"onepieces\": [\"suit\", \"dress\", \"jumpsuit\", \"romper\", \"saree\", \"playsuit\", \"gown\", \"maxi dress\", \"midi dress\", \"mini dress\"],\n",
    "    \"coveralls\": [\"blazer\", \"jacket\", \"coat\", \"sweater\", \"sweatshirt\", \"hoodie\", \"cardigan\"],\n",
    "    \"footwear\": [\"shoes\", \"boots\", \"sandals\", \"sneakers\", \"heels\"],\n",
    "    \"accessories\": [\"bag\", \"wallet\", \"watch\", \"sunglasses\", \"earrings\", \"necklaces\"],\n",
    "    \"seasons\": [\"summer\", \"monsoons\", \"winter\", \"spring\", \"rainy\", \"cold\", \"hot\"],\n",
    "    \"adjectives\": [\"pair\", \"red\", \"long\", \"short\", \"black\", \"sleeveless\", \"two\"]\n",
    "}\n",
    "imp_words = [\"party\", \"interview\", \"birthday\", \"dress\", \"shirt\", \"jacket\", \"co-ord\", \"skirt\", \"jeans\", \"top\",\n",
    "                \"shoes\", \"boots\", \"sandals\", \"sneakers\", \"bag\", \"wallet\", \"watch\", \"sunglasses\", \"summer\",\n",
    "                \"monsoons\", \"winter\", \"spring\"]\n",
    "\n",
    "categories = [\"accessories\", \"clothing\", \"footwear\", \"occasions\", \"seasons\"]\n",
    "\n"
   ]
  },
  {
   "cell_type": "code",
   "execution_count": 3,
   "metadata": {},
   "outputs": [
    {
     "ename": "OSError",
     "evalue": "[E050] Can't find model 'en_core_web_lg'. It doesn't seem to be a Python package or a valid path to a data directory.",
     "output_type": "error",
     "traceback": [
      "\u001b[1;31m---------------------------------------------------------------------------\u001b[0m",
      "\u001b[1;31mOSError\u001b[0m                                   Traceback (most recent call last)",
      "Cell \u001b[1;32mIn[3], line 2\u001b[0m\n\u001b[0;32m      1\u001b[0m activated \u001b[39m=\u001b[39m spacy\u001b[39m.\u001b[39mprefer_gpu()\n\u001b[1;32m----> 2\u001b[0m nlp \u001b[39m=\u001b[39m spacy\u001b[39m.\u001b[39;49mload(\u001b[39m\"\u001b[39;49m\u001b[39men_core_web_lg\u001b[39;49m\u001b[39m\"\u001b[39;49m)\n\u001b[0;32m      3\u001b[0m \u001b[39mdef\u001b[39;00m \u001b[39mget_hotwords\u001b[39m(text):\n\u001b[0;32m      4\u001b[0m     result \u001b[39m=\u001b[39m []\n",
      "File \u001b[1;32mc:\\Users\\shawa\\AppData\\Local\\anaconda3\\envs\\ml_env\\lib\\site-packages\\spacy\\__init__.py:51\u001b[0m, in \u001b[0;36mload\u001b[1;34m(name, vocab, disable, enable, exclude, config)\u001b[0m\n\u001b[0;32m     27\u001b[0m \u001b[39mdef\u001b[39;00m \u001b[39mload\u001b[39m(\n\u001b[0;32m     28\u001b[0m     name: Union[\u001b[39mstr\u001b[39m, Path],\n\u001b[0;32m     29\u001b[0m     \u001b[39m*\u001b[39m,\n\u001b[1;32m   (...)\u001b[0m\n\u001b[0;32m     34\u001b[0m     config: Union[Dict[\u001b[39mstr\u001b[39m, Any], Config] \u001b[39m=\u001b[39m util\u001b[39m.\u001b[39mSimpleFrozenDict(),\n\u001b[0;32m     35\u001b[0m ) \u001b[39m-\u001b[39m\u001b[39m>\u001b[39m Language:\n\u001b[0;32m     36\u001b[0m \u001b[39m    \u001b[39m\u001b[39m\"\"\"Load a spaCy model from an installed package or a local path.\u001b[39;00m\n\u001b[0;32m     37\u001b[0m \n\u001b[0;32m     38\u001b[0m \u001b[39m    name (str): Package name or model path.\u001b[39;00m\n\u001b[1;32m   (...)\u001b[0m\n\u001b[0;32m     49\u001b[0m \u001b[39m    RETURNS (Language): The loaded nlp object.\u001b[39;00m\n\u001b[0;32m     50\u001b[0m \u001b[39m    \"\"\"\u001b[39;00m\n\u001b[1;32m---> 51\u001b[0m     \u001b[39mreturn\u001b[39;00m util\u001b[39m.\u001b[39;49mload_model(\n\u001b[0;32m     52\u001b[0m         name,\n\u001b[0;32m     53\u001b[0m         vocab\u001b[39m=\u001b[39;49mvocab,\n\u001b[0;32m     54\u001b[0m         disable\u001b[39m=\u001b[39;49mdisable,\n\u001b[0;32m     55\u001b[0m         enable\u001b[39m=\u001b[39;49menable,\n\u001b[0;32m     56\u001b[0m         exclude\u001b[39m=\u001b[39;49mexclude,\n\u001b[0;32m     57\u001b[0m         config\u001b[39m=\u001b[39;49mconfig,\n\u001b[0;32m     58\u001b[0m     )\n",
      "File \u001b[1;32mc:\\Users\\shawa\\AppData\\Local\\anaconda3\\envs\\ml_env\\lib\\site-packages\\spacy\\util.py:472\u001b[0m, in \u001b[0;36mload_model\u001b[1;34m(name, vocab, disable, enable, exclude, config)\u001b[0m\n\u001b[0;32m    470\u001b[0m \u001b[39mif\u001b[39;00m name \u001b[39min\u001b[39;00m OLD_MODEL_SHORTCUTS:\n\u001b[0;32m    471\u001b[0m     \u001b[39mraise\u001b[39;00m \u001b[39mIOError\u001b[39;00m(Errors\u001b[39m.\u001b[39mE941\u001b[39m.\u001b[39mformat(name\u001b[39m=\u001b[39mname, full\u001b[39m=\u001b[39mOLD_MODEL_SHORTCUTS[name]))  \u001b[39m# type: ignore[index]\u001b[39;00m\n\u001b[1;32m--> 472\u001b[0m \u001b[39mraise\u001b[39;00m \u001b[39mIOError\u001b[39;00m(Errors\u001b[39m.\u001b[39mE050\u001b[39m.\u001b[39mformat(name\u001b[39m=\u001b[39mname))\n",
      "\u001b[1;31mOSError\u001b[0m: [E050] Can't find model 'en_core_web_lg'. It doesn't seem to be a Python package or a valid path to a data directory."
     ]
    }
   ],
   "source": [
    "activated = spacy.prefer_gpu()\n",
    "nlp = spacy.load(\"en_core_web_lg\")\n",
    "def get_hotwords(text):\n",
    "    result = []\n",
    "    pos_tag = ['PROPN', 'ADJ', 'NOUN'] \n",
    "    doc = nlp(text.lower()) \n",
    "    for token in doc:\n",
    "        # print(token, token.pos_)\n",
    "        if(token.text in nlp.Defaults.stop_words or token.text in punctuation) and token.text not in imp_words:\n",
    "            continue\n",
    "        if(token.pos_ in pos_tag):\n",
    "            result.append(token.text)\n",
    "    return result\n",
    "new_text = \"\"\"\n",
    "A simple tshirt or blouse with jeans or leggings can be dressed up with heels or boots. Add a cardigan or blazer if you want to look more professional. \n",
    "\"\"\"\n",
    "output = set(get_hotwords(new_text))\n",
    "most_common_list = Counter(output).most_common(10)\n",
    "for item in output:\n",
    "  print(item)"
   ]
  },
  {
   "cell_type": "code",
   "execution_count": 53,
   "metadata": {},
   "outputs": [
    {
     "name": "stderr",
     "output_type": "stream",
     "text": [
      "100%|██████████| 10/10 [00:00<00:00, 48.95it/s]"
     ]
    },
    {
     "name": "stdout",
     "output_type": "stream",
     "text": [
      "simple {'accessories': 0.06462316364760907, 'adjectives': 0.3615231512131528, 'bottoms': 0.012092571512705408, 'coveralls': 0.025483706668709628, 'footwear': 0.008897059929942221, 'occasions': 0.1235050067699653, 'onepieces': 0.06486170605962945, 'seasons': 0.04217084153853702, 'tops': 0.006859145917687679}\n",
      "blouse {'accessories': 0.06134332927652995, 'adjectives': 0.05512569385955568, 'bottoms': 0.10952261082924049, 'coveralls': 0.03911378348969648, 'footwear': 0.0010580575245019233, 'occasions': 0.010464042518696709, 'onepieces': 0.1720464758382707, 'seasons': 0.003959340102104, 'tops': 0.9178156750013554}\n",
      "professional {'accessories': 0.04933143106226782, 'adjectives': 0.1381305124411007, 'bottoms': 0.013458096546879805, 'coveralls': 0.059304638870764065, 'footwear': 0.003926774778228762, 'occasions': 0.527116919972589, 'onepieces': 0.28840490400825514, 'seasons': 0.0022484628354264512, 'tops': 0.006888982236346029}\n",
      "jeans {'accessories': 0.017456357081122895, 'adjectives': 0.03070892819964938, 'bottoms': 0.8100629721875852, 'coveralls': 0.03314453040135804, 'footwear': 0.029103441695618848, 'occasions': 0.008468943926895647, 'onepieces': 0.050074988764624156, 'seasons': 0.0029931579997046717, 'tops': 0.07737329090666693}\n",
      "heels {'accessories': 0.009292343568667132, 'adjectives': 0.04166605820969612, 'bottoms': 0.5195110972667025, 'coveralls': 0.015144377788508457, 'footwear': 0.8600426730627532, 'occasions': 0.03760755648295697, 'onepieces': 0.0892453755978262, 'seasons': 0.00795309608774129, 'tops': 0.0007319420161133311}\n",
      "blazer {'accessories': 0.018722137642992895, 'adjectives': 0.08674013454191079, 'bottoms': 0.016215258204860205, 'coveralls': 0.5193815038856079, 'footwear': 0.0074120158664085665, 'occasions': 0.06286380024121643, 'onepieces': 0.17983673806939424, 'seasons': 0.057477460927288386, 'tops': 0.010686919629837876}\n",
      "tshirt {'accessories': 0.043858115369360205, 'adjectives': 0.152448764346083, 'bottoms': 0.009368168389449587, 'coveralls': 0.1220464075530789, 'footwear': 0.002521514426313358, 'occasions': 0.15081858232828002, 'onepieces': 0.1926920028255608, 'seasons': 0.013706108062450713, 'tops': 0.060188604262567814}\n",
      "cardigan {'accessories': 0.14103271504064488, 'adjectives': 0.08889624356734897, 'bottoms': 0.0010727081563457427, 'coveralls': 0.647699803365694, 'footwear': 0.029111693013458895, 'occasions': 0.09194335781913417, 'onepieces': 0.026896909956044844, 'seasons': 0.0036470830568518468, 'tops': 0.009544713138746427}\n",
      "leggings {'accessories': 0.018848228807217017, 'adjectives': 0.07673394567791539, 'bottoms': 0.6914280453456315, 'coveralls': 0.05171287781982744, 'footwear': 0.05793635447949105, 'occasions': 0.05620485070577721, 'onepieces': 0.18210431756922169, 'seasons': 0.0013287244588376576, 'tops': 0.01786220357081382}\n",
      "boots {'accessories': 0.003967956065425107, 'adjectives': 0.05867347370446317, 'bottoms': 0.059071853925626534, 'coveralls': 0.17304322577998413, 'footwear': 0.8597963261129811, 'occasions': 0.03355953886899134, 'onepieces': 0.03594813467061514, 'seasons': 0.01120276210687422, 'tops': 0.0013831519723610404}\n"
     ]
    },
    {
     "name": "stderr",
     "output_type": "stream",
     "text": [
      "\n"
     ]
    }
   ],
   "source": [
    "nlp = spacy.blank(\"en\")\n",
    "nlp.add_pipe(\n",
    "    \"text_categorizer\",\n",
    "    config={\n",
    "        \"data\": data,\n",
    "        \"model\": \"sentence-transformers/paraphrase-multilingual-MiniLM-L12-v2\",\n",
    "        \"multi_label\": True,\n",
    "        \"device\": \"gpu\"\n",
    "    }\n",
    ")\n",
    "results = {}\n",
    "\n",
    "for item in tqdm(output):\n",
    "    doc = nlp(item)\n",
    "    if max(zip(doc._.cats.values(), doc._.cats.keys()))[1] not in results:\n",
    "        results[max(zip(doc._.cats.values(), doc._.cats.keys()))[1]] = [item]\n",
    "    else:\n",
    "        results[max(zip(doc._.cats.values(), doc._.cats.keys()))[1]].append(item)\n",
    "    print(item, doc._.cats)"
   ]
  },
  {
   "cell_type": "code",
   "execution_count": 54,
   "metadata": {},
   "outputs": [
    {
     "name": "stdout",
     "output_type": "stream",
     "text": [
      "{'adjectives': ['simple'],\n",
      " 'bottoms': ['jeans', 'leggings'],\n",
      " 'coveralls': ['blazer', 'cardigan'],\n",
      " 'footwear': ['heels', 'boots'],\n",
      " 'occasions': ['professional'],\n",
      " 'onepieces': ['tshirt'],\n",
      " 'tops': ['blouse']}\n"
     ]
    }
   ],
   "source": [
    "pprint(results)"
   ]
  },
  {
   "cell_type": "code",
   "execution_count": 56,
   "metadata": {},
   "outputs": [
    {
     "name": "stdout",
     "output_type": "stream",
     "text": [
      "['blouse', 'jeans', 'leggings', 'blazer', 'cardigan', 'tshirt', 'heels', 'boots']\n"
     ]
    }
   ],
   "source": [
    "queries = []\n",
    "cats = [\"tops\",\"bottoms\",\"coveralls\",\"onepieces\", \"accessories\", \"footwear\"]\n",
    "\n",
    "for cat in cats:\n",
    "    if cat in results:\n",
    "        for item in results[cat]:\n",
    "            queries.append(item)\n",
    "\n",
    "print(queries)\n"
   ]
  },
  {
   "cell_type": "code",
   "execution_count": 57,
   "metadata": {},
   "outputs": [
    {
     "name": "stdout",
     "output_type": "stream",
     "text": [
      "['blouse+professional+female', 'jeans+professional+female', 'leggings+professional+female', 'blazer+professional+female', 'cardigan+professional+female', 'tshirt+professional+female', 'heels+professional+female', 'boots+professional+female']\n"
     ]
    }
   ],
   "source": [
    "\n",
    "occasions = \"\"\n",
    "if \"occasions\" in results:\n",
    "    for item in results[\"occasions\"]:\n",
    "        occasions += \"+\" + item\n",
    "\n",
    "seasons = \"\"\n",
    "if \"seasons\" in results:\n",
    "    for item in results[\"seasons\"]:\n",
    "        seasons += \"+\" + item\n",
    "\n",
    "for i in range(len(queries)):\n",
    "    queries[i] += occasions + \"+female\"\n",
    "\n",
    "print(queries)"
   ]
  },
  {
   "cell_type": "code",
   "execution_count": 89,
   "metadata": {},
   "outputs": [],
   "source": [
    "response = requests.get(f\"https://flipkart-scraper-api.dvishal485.workers.dev/search/{queries[4]}\").json()"
   ]
  },
  {
   "cell_type": "code",
   "execution_count": 98,
   "metadata": {},
   "outputs": [
    {
     "data": {
      "text/plain": [
       "16"
      ]
     },
     "execution_count": 98,
     "metadata": {},
     "output_type": "execute_result"
    }
   ],
   "source": [
    "total_search_results = response[\"total_result\"]\n",
    "search_products = response[\"result\"]\n",
    "len(search_products)"
   ]
  },
  {
   "cell_type": "code",
   "execution_count": 80,
   "metadata": {},
   "outputs": [
    {
     "data": {
      "text/html": [
       "<div>\n",
       "<style scoped>\n",
       "    .dataframe tbody tr th:only-of-type {\n",
       "        vertical-align: middle;\n",
       "    }\n",
       "\n",
       "    .dataframe tbody tr th {\n",
       "        vertical-align: top;\n",
       "    }\n",
       "\n",
       "    .dataframe thead th {\n",
       "        text-align: right;\n",
       "    }\n",
       "</style>\n",
       "<table border=\"1\" class=\"dataframe\">\n",
       "  <thead>\n",
       "    <tr style=\"text-align: right;\">\n",
       "      <th></th>\n",
       "      <th>UserID</th>\n",
       "      <th>FirstName</th>\n",
       "      <th>LastName</th>\n",
       "      <th>Age</th>\n",
       "      <th>Gender</th>\n",
       "      <th>Country</th>\n",
       "      <th>ProductsBought</th>\n",
       "      <th>ProductsViewedInLast30Days</th>\n",
       "      <th>ProductsInWishlist</th>\n",
       "    </tr>\n",
       "  </thead>\n",
       "  <tbody>\n",
       "    <tr>\n",
       "      <th>0</th>\n",
       "      <td>613707</td>\n",
       "      <td>Mark</td>\n",
       "      <td>Drake</td>\n",
       "      <td>69</td>\n",
       "      <td>F</td>\n",
       "      <td>Uzbekistan</td>\n",
       "      <td>[[ETHFZ7GZ5YMFZW6Z, MYKUKI Women Lycra Blend E...</td>\n",
       "      <td>[[KDEGM6XFEYD3HTQ9, Flip The Style Disney Prin...</td>\n",
       "      <td>[[SHTGM92WNJWTTC5H, BLUE MARTIN Men Regular Fi...</td>\n",
       "    </tr>\n",
       "    <tr>\n",
       "      <th>1</th>\n",
       "      <td>762381</td>\n",
       "      <td>Emily</td>\n",
       "      <td>Moore</td>\n",
       "      <td>72</td>\n",
       "      <td>F</td>\n",
       "      <td>Romania</td>\n",
       "      <td>[[None, VTEXX Men Regular Fit Solid Spread Col...</td>\n",
       "      <td>[[ETHGK7WN2R7ANPFZ, RAJ FASHIONS Women Viscose...</td>\n",
       "      <td>[[ETHGKD52TDAZHKZF, Bisso Fashion Women Viscos...</td>\n",
       "    </tr>\n",
       "    <tr>\n",
       "      <th>2</th>\n",
       "      <td>507939</td>\n",
       "      <td>Randy</td>\n",
       "      <td>Lawson</td>\n",
       "      <td>67</td>\n",
       "      <td>M</td>\n",
       "      <td>Croatia</td>\n",
       "      <td>[[ETHFZGYAFRWZAEGV, MYKUKI Women Lycra Blend E...</td>\n",
       "      <td>[[ETHFZZ75QGF67ZCP, MYKUKI Women Cotton Blend ...</td>\n",
       "      <td>[[SHTG89X4H9Z432KD, EVIQE Men Regular, Slim Fi...</td>\n",
       "    </tr>\n",
       "    <tr>\n",
       "      <th>3</th>\n",
       "      <td>177633</td>\n",
       "      <td>Kelly</td>\n",
       "      <td>Jones</td>\n",
       "      <td>34</td>\n",
       "      <td>M</td>\n",
       "      <td>Burundi</td>\n",
       "      <td>[[SRTGDF9HYPTQ9JFZ, Adrenex Pack of 2 Solid Me...</td>\n",
       "      <td>[[SHTGB79SGHYVBMXG, FUBAR Men Slim Fit Solid S...</td>\n",
       "      <td>[[KTAGGF8UCCJFR6EZ, DSK STUDIO Pack of 2 Women...</td>\n",
       "    </tr>\n",
       "    <tr>\n",
       "      <th>4</th>\n",
       "      <td>932181</td>\n",
       "      <td>Leslie</td>\n",
       "      <td>Tate</td>\n",
       "      <td>64</td>\n",
       "      <td>F</td>\n",
       "      <td>Georgia</td>\n",
       "      <td>[[SHTGMNGQFMU25UEV, VTEXX Men Regular Fit Soli...</td>\n",
       "      <td>[[DREGHH44GBFGQWYX, SClassicFashion Women Empi...</td>\n",
       "      <td>[[KDEGZBRQS9NGXJY8, Flip The Style Girls Midi/...</td>\n",
       "    </tr>\n",
       "  </tbody>\n",
       "</table>\n",
       "</div>"
      ],
      "text/plain": [
       "   UserID FirstName LastName  Age Gender     Country  \\\n",
       "0  613707      Mark    Drake   69      F  Uzbekistan   \n",
       "1  762381     Emily    Moore   72      F     Romania   \n",
       "2  507939     Randy   Lawson   67      M     Croatia   \n",
       "3  177633     Kelly    Jones   34      M     Burundi   \n",
       "4  932181    Leslie     Tate   64      F     Georgia   \n",
       "\n",
       "                                      ProductsBought  \\\n",
       "0  [[ETHFZ7GZ5YMFZW6Z, MYKUKI Women Lycra Blend E...   \n",
       "1  [[None, VTEXX Men Regular Fit Solid Spread Col...   \n",
       "2  [[ETHFZGYAFRWZAEGV, MYKUKI Women Lycra Blend E...   \n",
       "3  [[SRTGDF9HYPTQ9JFZ, Adrenex Pack of 2 Solid Me...   \n",
       "4  [[SHTGMNGQFMU25UEV, VTEXX Men Regular Fit Soli...   \n",
       "\n",
       "                          ProductsViewedInLast30Days  \\\n",
       "0  [[KDEGM6XFEYD3HTQ9, Flip The Style Disney Prin...   \n",
       "1  [[ETHGK7WN2R7ANPFZ, RAJ FASHIONS Women Viscose...   \n",
       "2  [[ETHFZZ75QGF67ZCP, MYKUKI Women Cotton Blend ...   \n",
       "3  [[SHTGB79SGHYVBMXG, FUBAR Men Slim Fit Solid S...   \n",
       "4  [[DREGHH44GBFGQWYX, SClassicFashion Women Empi...   \n",
       "\n",
       "                                  ProductsInWishlist  \n",
       "0  [[SHTGM92WNJWTTC5H, BLUE MARTIN Men Regular Fi...  \n",
       "1  [[ETHGKD52TDAZHKZF, Bisso Fashion Women Viscos...  \n",
       "2  [[SHTG89X4H9Z432KD, EVIQE Men Regular, Slim Fi...  \n",
       "3  [[KTAGGF8UCCJFR6EZ, DSK STUDIO Pack of 2 Women...  \n",
       "4  [[KDEGZBRQS9NGXJY8, Flip The Style Girls Midi/...  "
      ]
     },
     "execution_count": 80,
     "metadata": {},
     "output_type": "execute_result"
    }
   ],
   "source": [
    "users = pd.read_pickle('users.pkl')\n",
    "users.head()"
   ]
  },
  {
   "cell_type": "code",
   "execution_count": 86,
   "metadata": {},
   "outputs": [
    {
     "name": "stdout",
     "output_type": "stream",
     "text": [
      "{'productsBoughtUser': [['CTPGG9YYV45PSCKJ',\n",
      "                         'Lucky Jewellery Alloy Cufflink Set\\xa0\\xa0'\n",
      "                         '(Black)Lucky Jewellery Alloy Cufflink Set',\n",
      "                         'https://www.flipkart.com/lucky-jewellery-alloy-cufflink-set/p/itmb8ca7fe635070'],\n",
      "                        ['SHTGMG75K5G6MQZ9',\n",
      "                         'VTEXX\\xa0Men Regular Fit Solid Spread Collar Formal '\n",
      "                         'Shirt',\n",
      "                         'https://www.flipkart.com/vtexx-men-solid-formal-black-shirt/p/itm5479dec8822cf'],\n",
      "                        [nan, nan, nan],\n",
      "                        ['DREG9Z7GHHTQ9HNK',\n",
      "                         'Nidhi Collection\\xa0Women A-line Multicolor Dress',\n",
      "                         'https://www.flipkart.com/nidhi-collection-women-a-line-multicolor-dress/p/itm0420b5b72563f'],\n",
      "                        ['SHOGK39ZQ9KNPFHZ',\n",
      "                         'Ladwa\\xa0Risk Safety Shoes with Mid Ankle Black '\n",
      "                         'Construction Factory Work Boots Gum Boots Boots For '\n",
      "                         'Men',\n",
      "                         'https://www.flipkart.com/ladwa-risk-safety-shoes-mid-ankle-black-construction-factory-work-boots-gum-men/p/itm7bda9e2978d57'],\n",
      "                        ['ETHFZ7GZ5YMFZW6Z',\n",
      "                         'MYKUKI\\xa0Women Lycra Blend Ethnic Jacket, Top and '\n",
      "                         'Palazzo Set',\n",
      "                         'https://www.flipkart.com/mykuki-women-ethnic-jacket-top-palazzo-set/p/itm25b2dcba3bf8f'],\n",
      "                        ['SHTGPEH4QYZTHBGT',\n",
      "                         'PARK AVENUE\\xa0Men Slim Fit Striped Formal Shirt',\n",
      "                         'https://www.flipkart.com/park-avenue-men-striped-formal-light-blue-shirt/p/itm37457d604e05f']],\n",
      " 'productsViewedUser': [['ETHG9HUXXKG7RWGP',\n",
      "                         'MYKUKI\\xa0Women Lycra Blend Ethnic Jacket, Top and '\n",
      "                         'Pant',\n",
      "                         'https://www.flipkart.com/mykuki-women-ethnic-jacket-top-pant/p/itm78f08b4f0a851'],\n",
      "                        ['DREGKSWSBZWNZSH9',\n",
      "                         'fashionwrld\\xa0Women A-line Multicolor Dress',\n",
      "                         'https://www.flipkart.com/fashionwrld-women-a-line-multicolor-dress/p/itm571db53ad2432'],\n",
      "                        ['DREGK7N2FHSHZHVG',\n",
      "                         'maruti fab\\xa0Women Fit and Flare Pink Dress',\n",
      "                         'https://www.flipkart.com/maruti-fab-women-fit-flare-pink-dress/p/itm69cbe420735fd'],\n",
      "                        ['DREG9Z7GHHTQ9HNK',\n",
      "                         'Nidhi Collection\\xa0Women A-line Multicolor Dress',\n",
      "                         'https://www.flipkart.com/nidhi-collection-women-a-line-multicolor-dress/p/itm0420b5b72563f'],\n",
      "                        ['DREG3QDFRWG6BPGB',\n",
      "                         'HIVA TRENDZ\\xa0Women Fit and Flare Multicolor Dress',\n",
      "                         'https://www.flipkart.com/hiva-trendz-women-fit-flare-multicolor-dress/p/itm0e4969da8ca02'],\n",
      "                        ['SHTGPCGZPFDSBTW3',\n",
      "                         'PARK AVENUE\\xa0Men Slim Fit Checkered Formal Shirt',\n",
      "                         'https://www.flipkart.com/park-avenue-men-checkered-formal-blue-shirt/p/itm9b8404da25d42'],\n",
      "                        ['KPBGGZ3ZTZMWDS2Y',\n",
      "                         'CATTY\\xa0Baby Boys & Baby Girls Party(Festive) '\n",
      "                         'Waistcoat Pant, Bow Tie, Shirt',\n",
      "                         'https://www.flipkart.com/catty-baby-boys-girls-party-festive-waistcoat-pant-bow-tie-shirt/p/itm13d3f1376ed20'],\n",
      "                        ['SHTGHQ6HGSGGWCWQ',\n",
      "                         'FIBERMILL\\xa0Men Regular Fit Solid Spread Collar '\n",
      "                         'Formal Shirt',\n",
      "                         'https://www.flipkart.com/fibermill-men-solid-formal-grey-shirt/p/itm919c0f36bb89a']],\n",
      " 'productsWishlistUser': [['SHTGM92WNJWTTC5H',\n",
      "                           'BLUE MARTIN\\xa0Men Regular Fit Checkered Spread '\n",
      "                           'Collar Casual Shirt',\n",
      "                           'https://www.flipkart.com/blue-martin-men-checkered-casual-multicolor-shirt/p/itm13dc9c6053f20'],\n",
      "                          ['KPBGZTU5SYMYZM54',\n",
      "                           'findersapparels\\xa0Baby Boys Casual T-shirt Shorts',\n",
      "                           'https://www.flipkart.com/findersapparels-baby-boys-casual-t-shirt-shorts/p/itmae131e0a1c005']]}\n"
     ]
    }
   ],
   "source": [
    "name = \"Mark\"\n",
    "user = users[users['FirstName'] == name]\n",
    "user = user.reset_index(drop=True)\n",
    "totalproducts_user = len(user.iloc[0][\"ProductsBought\"]) + len(user.iloc[0][\"ProductsViewedInLast30Days\"]) + len(user.iloc[0][\"ProductsInWishlist\"])\n",
    "products_user = { \"productsBoughtUser\" : [] \n",
    "                , \"productsViewedUser\" : []\n",
    "                , \"productsWishlistUser\" : []}\n",
    "\n",
    "if totalproducts_user > 20  :\n",
    "    if len(user.iloc[0][\"ProductsViewedInLast30Days\"]) < 9:\n",
    "        products_user[\"productsViewedUser\"] = user.iloc[0][\"ProductsViewedInLast30Days\"]\n",
    "    else:\n",
    "        products_user[\"productsViewedUser\"] = random.sample(user.iloc[0][\"ProductsViewedInLast30Days\"],8)\n",
    "    if len(user.iloc[0][\"ProductsBought\"]) < 8:\n",
    "        products_user[\"productsBoughtUser\"] = user.iloc[0][\"ProductsBought\"]\n",
    "    else:\n",
    "        products_user[\"productsBoughtUser\"] = random.sample(user.iloc[0][\"ProductsBought\"],7)\n",
    "    if len(user.iloc[0][\"ProductsInWishlist\"]) < 6:\n",
    "        products_user[\"productsWishlistUser\"] = user.iloc[0][\"ProductsInWishlist\"]\n",
    "    else:\n",
    "        products_user[\"productsWishlistUser\"] = random.sample(user.iloc[0][\"ProductsInWishlist\"],5)\n",
    "else:\n",
    "    products_user[\"productsViewedUser\"] = user.iloc[0][\"ProductsViewedInLast30Days\"]\n",
    "    products_user[\"productsBoughtUser\"] = user.iloc[0][\"ProductsBought\"]\n",
    "    products_user[\"productsWishlistUser\"] = user.iloc[0][\"ProductsInWishlist\"]\n",
    "\n",
    "pprint(products_user)"
   ]
  },
  {
   "cell_type": "code",
   "execution_count": 97,
   "metadata": {},
   "outputs": [],
   "source": [
    "check = SimilarityFinder('sentence-transformers/all-mpnet-base-v2')\n",
    "heap = []\n",
    "heapify(heap)\n",
    "weights = { \"productsViewedUser\" : 0.5, \"productsBoughtUser\" : 0.3, \"productsWishlistUser\": 0.2}\n",
    "if len(search_products) > 17:\n",
    "    search_products = search_products[2:17]\n",
    "for i in search_products:\n",
    "    # print(\"Search Product: \", search_products[i])\n",
    "    # print(\"Search Result: \", search_results[i])\n",
    "    val = 0\n",
    "    for cat in products_user:\n",
    "        for j in products_user[cat]:\n",
    "            val += weights[cat]*check.calculate_similarity(\n",
    "            check.calculate_embeddings(str(j[1])),\n",
    "            check.calculate_embeddings(i[\"name\"])).item()\n",
    "    sim = val/min(20, totalproducts_user)\n",
    "    heappush(heap, (-sim , i[\"name\"], i[\"link\"]))"
   ]
  },
  {
   "cell_type": "code",
   "execution_count": 99,
   "metadata": {},
   "outputs": [
    {
     "name": "stdout",
     "output_type": "stream",
     "text": [
      "(0.12734332028776407, 'Women Self Design, Striped Collared Neck Red Sweater', 'https://www.flipkart.com/honeybell-self-design-striped-collared-neck-casual-women-red-sweater/p/itm9e02a8d808329')\n",
      "(0.1267981592565775, 'Women Colorblock Collared Neck Beige Sweater', 'https://www.flipkart.com/manera-colorblock-collared-neck-casual-women-beige-sweater/p/itm50e18a1f60519')\n",
      "(0.12329951353371145, 'Women Colorblock Collared Neck Black Sweater', 'https://www.flipkart.com/manera-colorblock-collared-neck-casual-women-black-sweater/p/itm1025fc31b0d1e')\n",
      "(0.11946655206382273, 'Women Solid Collared Neck Purple Sweater', 'https://www.flipkart.com/honeybell-solid-collared-neck-casual-women-purple-sweater/p/itm358bf1d3fdd89')\n",
      "(0.11928256701678037, 'Women Self Design, Striped Collared Neck Blue Sweater', 'https://www.flipkart.com/honeybell-self-design-striped-collared-neck-casual-women-blue-sweater/p/itm156d4e42c1ad1')\n",
      "(0.11712776955217122, 'Women Solid Collared Neck Red Sweater', 'https://www.flipkart.com/honeybell-solid-collared-neck-casual-women-red-sweater/p/itmdd98da0f2490d')\n",
      "(0.1150197871774435, 'Women Solid Collared Neck White Sweater', 'https://www.flipkart.com/honeybell-solid-collared-neck-casual-women-white-sweater/p/itmc06a0a23f146c')\n",
      "(0.11228922411799432, 'Women Self Design Collared Neck Beige Sweater', 'https://www.flipkart.com/honeybell-self-design-collared-neck-casual-women-beige-sweater/p/itm2f3da98983c47')\n",
      "(0.11191613137722016, 'Women Self Design V Neck Black Sweater', 'https://www.flipkart.com/jorden4u-self-design-v-neck-casual-women-black-sweater/p/itma12a3c59aa307')\n",
      "(0.10905095517635344, 'Women Solid Collared Neck Green Sweater', 'https://www.flipkart.com/honeybell-solid-collared-neck-casual-women-green-sweater/p/itm8e61c08138c26')\n",
      "(0.10704030375927687, 'Women Solid High Neck Blue Sweater', 'https://www.flipkart.com/tokyo-talkies-solid-high-neck-casual-women-blue-sweater/p/itm2a7c074938734')\n",
      "(0.10222386479377746, 'Women Self Design Collared Neck Brown Sweater', 'https://www.flipkart.com/honeybell-self-design-collared-neck-casual-women-brown-sweater/p/itm4f2f4c503502c')\n",
      "(0.10098695032298566, 'Women Button Embroidered Cardigan', 'https://www.flipkart.com/hautemoda-women-button-embroidered-cardigan/p/itm1f7d6a532ec2e')\n",
      "(0.09994031488895415, 'Women Self Design Collared Neck Blue Sweater', 'https://www.flipkart.com/honeybell-self-design-collared-neck-casual-women-blue-sweater/p/itm2c6a8a3b2d5cd')\n"
     ]
    }
   ],
   "source": [
    "sorted_tuples = []\n",
    "max_heap = heap\n",
    "while max_heap:\n",
    "    max_value_neg, value, link = heappop(max_heap)\n",
    "    sorted_tuples.append((abs(max_value_neg), value, link))\n",
    "\n",
    "for item in sorted_tuples:\n",
    "    print(item)"
   ]
  }
 ],
 "metadata": {
  "kernelspec": {
   "display_name": "flipkart-grid",
   "language": "python",
   "name": "python3"
  },
  "language_info": {
   "codemirror_mode": {
    "name": "ipython",
    "version": 3
   },
   "file_extension": ".py",
   "mimetype": "text/x-python",
   "name": "python",
   "nbconvert_exporter": "python",
   "pygments_lexer": "ipython3",
   "version": "3.8.0"
  },
  "orig_nbformat": 4
 },
 "nbformat": 4,
 "nbformat_minor": 2
}
