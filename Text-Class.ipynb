{
 "cells": [
  {
   "cell_type": "code",
   "execution_count": 22,
   "metadata": {},
   "outputs": [
    {
     "name": "stdout",
     "output_type": "stream",
     "text": [
      "[(8.0, 'wedding takes place'), (2.0, 'wedding'), (1.0, 'outfit'), (1.0, 'monsoon'), (1.0, 'july'), (1.0, 'give'), (1.0, 'attend')]\n"
     ]
    }
   ],
   "source": [
    "from rake_nltk import Rake\n",
    "string = \"Give me an outfit for this wedding I have to attend in July. It'll be monsoon when this wedding takes place then\"\n",
    "r = Rake()\n",
    "r.extract_keywords_from_text(string)\n",
    "text = r.get_ranked_phrases_with_scores()\n",
    "print(text)"
   ]
  },
  {
   "cell_type": "code",
   "execution_count": 20,
   "metadata": {},
   "outputs": [
    {
     "name": "stdout",
     "output_type": "stream",
     "text": [
      "wedding {'accessories': 0.006836937581318219, 'clothing': 0.0738532820666027, 'footwear': 0.021362298124571206, 'occasions': 0.9600076455315171, 'seasons': 0.02673671304063802}\n",
      "outfit {'accessories': 0.004261435132749358, 'clothing': 0.8637875123088191, 'footwear': 0.06814281571837914, 'occasions': 0.06303155481934698, 'seasons': 0.02273266168691059}\n",
      "monsoon {'accessories': 0.005927888715721937, 'clothing': 0.049083089352493954, 'footwear': 0.01027493363412043, 'occasions': 0.03417846908348522, 'seasons': 0.9300824809099084}\n",
      "july {'accessories': 0.017900661625043075, 'clothing': 0.03780946213576795, 'footwear': 0.01896045706642856, 'occasions': 0.1623203969235075, 'seasons': 0.6874608860997946}\n",
      "give {'accessories': 0.25504373960103294, 'clothing': 0.03608087826494631, 'footwear': 0.03648989258840623, 'occasions': 0.4478374211949034, 'seasons': 0.09362631160419103}\n",
      "attend {'accessories': 0.1106069497650662, 'clothing': 0.05554996439042358, 'footwear': 0.03831729173085149, 'occasions': 0.6858399184559896, 'seasons': 0.052654668419497855}\n"
     ]
    }
   ],
   "source": [
    "import spacy\n",
    "\n",
    "data = {\n",
    "    \"occasions\": [\"wedding\",\n",
    "               \"party\",\n",
    "                \"interview\",\n",
    "                \"birthday\"],\n",
    "    \"clothing\": [\"dress\",\n",
    "                \"shirt\",\n",
    "                \"jacket\",\n",
    "                \"skirt\",\n",
    "                \"jeans\",\n",
    "                \"top\"],\n",
    "    \"footwear\": [\"shoes\",\n",
    "                \"boots\",\n",
    "                \"sandals\",\n",
    "                \"sneakers\"],\n",
    "    \"accessories\": [\"bag\",\n",
    "                    \"wallet\",\n",
    "                    \"watch\",\n",
    "                    \"sunglasses\"],\n",
    "    \"seasons\": [\"summer\",\n",
    "                \"monsoons\",\n",
    "                \"winter\",\n",
    "                \"spring\"],\n",
    "}\n",
    "\n",
    "nlp = spacy.blank(\"en\")\n",
    "nlp.add_pipe(\n",
    "    \"text_categorizer\",\n",
    "    config={\n",
    "        \"data\": data,\n",
    "        \"model\": \"sentence-transformers/paraphrase-multilingual-MiniLM-L12-v2\",\n",
    "        \"multi_label\": True,\n",
    "        \"device\": \"gpu\"\n",
    "    }\n",
    ")\n",
    "\n",
    "for i in text:\n",
    "    doc = nlp(i[1])\n",
    "    print(i[1], doc._.cats)\n"
   ]
  }
 ],
 "metadata": {
  "kernelspec": {
   "display_name": "flipkart-grid",
   "language": "python",
   "name": "python3"
  },
  "language_info": {
   "codemirror_mode": {
    "name": "ipython",
    "version": 3
   },
   "file_extension": ".py",
   "mimetype": "text/x-python",
   "name": "python",
   "nbconvert_exporter": "python",
   "pygments_lexer": "ipython3",
   "version": "3.9.17"
  },
  "orig_nbformat": 4
 },
 "nbformat": 4,
 "nbformat_minor": 2
}
