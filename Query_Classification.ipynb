{
 "cells": [
  {
   "cell_type": "code",
   "execution_count": 6,
   "metadata": {},
   "outputs": [],
   "source": [
    "from collections import Counter\n",
    "from string import punctuation\n",
    "import spacy\n",
    "import numpy as np\n",
    "from tqdm import tqdm"
   ]
  },
  {
   "cell_type": "code",
   "execution_count": 4,
   "metadata": {},
   "outputs": [],
   "source": [
    "data = {\n",
    "    \"occasions\": [\"wedding\", \"party\", \"interview\", \"birthday\", \"promotion\", \"anniversary\"],\n",
    "    \"clothing\": [\"dress\", \"shirt\", \"jacket\", \"skirt\", \"jeans\", \"top\", \"coord\"],\n",
    "    \"footwear\": [\"shoes\", \"boots\", \"sandals\", \"sneakers\", \"heels\"],\n",
    "    \"accessories\": [\"bag\", \"wallet\", \"watch\", \"sunglasses\", \"earrings\", \"necklaces\"],\n",
    "    \"seasons\": [\"summer\", \"monsoons\", \"winter\", \"spring\", \"rainy\", \"cold\", \"hot\"],\n",
    "}\n",
    "imp_words = [\"party\", \"interview\", \"birthday\", \"dress\", \"shirt\", \"jacket\", \"co-ord\", \"skirt\", \"jeans\", \"top\",\n",
    "                \"shoes\", \"boots\", \"sandals\", \"sneakers\", \"bag\", \"wallet\", \"watch\", \"sunglasses\", \"summer\",\n",
    "                \"monsoons\", \"winter\", \"spring\"]\n"
   ]
  },
  {
   "cell_type": "code",
   "execution_count": 9,
   "metadata": {},
   "outputs": [
    {
     "name": "stdout",
     "output_type": "stream",
     "text": [
      "\n",
      " SPACE\n",
      "give VERB\n",
      "me PRON\n",
      "an DET\n",
      "outfit NOUN\n",
      "along ADP\n",
      "with ADP\n",
      "a DET\n",
      "pair NOUN\n",
      "of ADP\n",
      "earrings NOUN\n",
      "for ADP\n",
      "this DET\n",
      "wedding NOUN\n",
      "i PRON\n",
      "have VERB\n",
      "to PART\n",
      "attend VERB\n",
      "in ADP\n",
      "july PROPN\n",
      "\n",
      " SPACE\n",
      "pair\n",
      "outfit\n",
      "wedding\n",
      "july\n",
      "earrings\n"
     ]
    }
   ],
   "source": [
    "activated = spacy.prefer_gpu()\n",
    "nlp = spacy.load(\"en_core_web_lg\")\n",
    "def get_hotwords(text):\n",
    "    result = []\n",
    "    pos_tag = ['PROPN', 'ADJ', 'NOUN'] \n",
    "    doc = nlp(text.lower()) \n",
    "    for token in doc:\n",
    "        print(token, token.pos_)\n",
    "        if(token.text in nlp.Defaults.stop_words or token.text in punctuation) and token.text not in imp_words:\n",
    "            continue\n",
    "        if(token.pos_ in pos_tag):\n",
    "            result.append(token.text)\n",
    "    return result\n",
    "new_text = \"\"\"\n",
    "Give me an outfit along with a pair of earrings for this wedding I have to attend in July\n",
    "\"\"\"\n",
    "output = set(get_hotwords(new_text))\n",
    "most_common_list = Counter(output).most_common(10)\n",
    "for item in output:\n",
    "  print(item)"
   ]
  },
  {
   "cell_type": "code",
   "execution_count": 7,
   "metadata": {},
   "outputs": [
    {
     "name": "stderr",
     "output_type": "stream",
     "text": [
      "100%|██████████| 5/5 [00:00<00:00, 56.69it/s]"
     ]
    },
    {
     "name": "stdout",
     "output_type": "stream",
     "text": [
      "pair {'accessories': 0.16314462199123708, 'clothing': 0.1549832950604213, 'footwear': 0.07879017823276911, 'occasions': 0.37586760065783503, 'seasons': 0.055823112836272226}\n",
      "outfit {'accessories': 0.03316550661349591, 'clothing': 0.4667935668871229, 'footwear': 0.06609492597854708, 'occasions': 0.053222075732521086, 'seasons': 0.015148895738353492}\n",
      "wedding {'accessories': 0.009645663846701381, 'clothing': 0.19249439730869963, 'footwear': 0.048915602637069566, 'occasions': 0.9753498143209806, 'seasons': 0.02938023014224828}\n",
      "july {'accessories': 0.017021439600301422, 'clothing': 0.220187557765368, 'footwear': 0.01792010425564948, 'occasions': 0.1251184560003644, 'seasons': 0.7003727280785236}\n",
      "earrings {'accessories': 0.9789009273621317, 'clothing': 0.1905061037380679, 'footwear': 0.017358308449467688, 'occasions': 0.030149489683832086, 'seasons': 0.0128475938386677}\n"
     ]
    },
    {
     "name": "stderr",
     "output_type": "stream",
     "text": [
      "\n"
     ]
    }
   ],
   "source": [
    "nlp = spacy.blank(\"en\")\n",
    "nlp.add_pipe(\n",
    "    \"text_categorizer\",\n",
    "    config={\n",
    "        \"data\": data,\n",
    "        \"model\": \"sentence-transformers/paraphrase-multilingual-MiniLM-L12-v2\",\n",
    "        \"multi_label\": True,\n",
    "        \"device\": \"gpu\"\n",
    "    }\n",
    ")\n",
    "results = default\n",
    "\n",
    "for item in tqdm(output):\n",
    "    doc = nlp(item)\n",
    "    results[np.argmax(doc._.cats)] = item\n",
    "    print(item, doc._.cats)"
   ]
  },
  {
   "cell_type": "code",
   "execution_count": 8,
   "metadata": {},
   "outputs": [
    {
     "name": "stdout",
     "output_type": "stream",
     "text": [
      "{0: 'earrings'}\n"
     ]
    }
   ],
   "source": [
    "print(results)"
   ]
  }
 ],
 "metadata": {
  "kernelspec": {
   "display_name": "flipkart-grid",
   "language": "python",
   "name": "python3"
  },
  "language_info": {
   "codemirror_mode": {
    "name": "ipython",
    "version": 3
   },
   "file_extension": ".py",
   "mimetype": "text/x-python",
   "name": "python",
   "nbconvert_exporter": "python",
   "pygments_lexer": "ipython3",
   "version": "3.9.17"
  },
  "orig_nbformat": 4
 },
 "nbformat": 4,
 "nbformat_minor": 2
}
